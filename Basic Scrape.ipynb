{
 "cells": [
  {
   "cell_type": "code",
   "execution_count": 70,
   "metadata": {},
   "outputs": [],
   "source": [
    "import numpy as np\n",
    "import pandas as pd\n",
    "import requests\n",
    "from requests import get\n",
    "import bs4\n",
    "import re"
   ]
  },
  {
   "cell_type": "code",
   "execution_count": 71,
   "metadata": {},
   "outputs": [],
   "source": [
    "source = requests.get('https://forecast.weather.gov/MapClick.php?lat=32.99802500000004&lon=-96.79775499999994#.Xuf2Ni2z01I')"
   ]
  },
  {
   "cell_type": "code",
   "execution_count": null,
   "metadata": {},
   "outputs": [],
   "source": [
    "source.text # convert to beautiful soup"
   ]
  },
  {
   "cell_type": "code",
   "execution_count": 72,
   "metadata": {},
   "outputs": [],
   "source": [
    "soup=bs4.BeautifulSoup(source.content,'html.parser')"
   ]
  },
  {
   "cell_type": "code",
   "execution_count": 73,
   "metadata": {},
   "outputs": [],
   "source": [
    "#sel1=soup.select('.toctext')\n",
    "day = soup.find_all(class_ = 'tombstone-container')"
   ]
  },
  {
   "cell_type": "code",
   "execution_count": 74,
   "metadata": {},
   "outputs": [
    {
     "name": "stdout",
     "output_type": "stream",
     "text": [
      "Today\n",
      "High: 95 °F\n",
      "Sunny\n"
     ]
    }
   ],
   "source": [
    "print(day[0].find(class_ = 'period-name').get_text())\n",
    "print(day[0].find(class_ = 'temp').get_text())\n",
    "print(day[0].find(class_ = 'short-desc').get_text())"
   ]
  },
  {
   "cell_type": "code",
   "execution_count": 76,
   "metadata": {},
   "outputs": [],
   "source": [
    "S=[days.find(class_ = 'period-name').get_text()for days in day]\n",
    "A=[days.find(class_ = 'temp').get_text()for days in day]\n",
    "M=[days.find(class_ = 'short-desc').get_text() for days in day]"
   ]
  },
  {
   "cell_type": "code",
   "execution_count": 75,
   "metadata": {},
   "outputs": [
    {
     "data": {
      "text/plain": [
       "[<div class=\"tombstone-container\">\n",
       " <p class=\"period-name\">Today<br/><br/></p>\n",
       " <p><img alt=\"Today: Sunny, with a high near 95. South wind around 10 mph, with gusts as high as 20 mph. \" class=\"forecast-icon\" src=\"newimages/medium/few.png\" title=\"Today: Sunny, with a high near 95. South wind around 10 mph, with gusts as high as 20 mph. \"/></p><p class=\"short-desc\">Sunny</p><p class=\"temp temp-high\">High: 95 °F</p></div>,\n",
       " <div class=\"tombstone-container\">\n",
       " <p class=\"period-name\">Tonight<br/><br/></p>\n",
       " <p><img alt=\"Tonight: Mostly clear, with a low around 74. South southeast wind around 10 mph. \" class=\"forecast-icon\" src=\"newimages/medium/nfew.png\" title=\"Tonight: Mostly clear, with a low around 74. South southeast wind around 10 mph. \"/></p><p class=\"short-desc\">Mostly Clear</p><p class=\"temp temp-low\">Low: 74 °F</p></div>,\n",
       " <div class=\"tombstone-container\">\n",
       " <p class=\"period-name\">Thursday<br/><br/></p>\n",
       " <p><img alt=\"Thursday: Sunny, with a high near 96. South wind 10 to 15 mph, with gusts as high as 20 mph. \" class=\"forecast-icon\" src=\"newimages/medium/few.png\" title=\"Thursday: Sunny, with a high near 96. South wind 10 to 15 mph, with gusts as high as 20 mph. \"/></p><p class=\"short-desc\">Sunny</p><p class=\"temp temp-high\">High: 96 °F</p></div>,\n",
       " <div class=\"tombstone-container\">\n",
       " <p class=\"period-name\">Thursday<br/>Night</p>\n",
       " <p><img alt=\"Thursday Night: Mostly clear, with a low around 75. South southeast wind around 10 mph, with gusts as high as 20 mph. \" class=\"forecast-icon\" src=\"newimages/medium/nfew.png\" title=\"Thursday Night: Mostly clear, with a low around 75. South southeast wind around 10 mph, with gusts as high as 20 mph. \"/></p><p class=\"short-desc\">Mostly Clear</p><p class=\"temp temp-low\">Low: 75 °F</p></div>,\n",
       " <div class=\"tombstone-container\">\n",
       " <p class=\"period-name\">Friday<br/><br/></p>\n",
       " <p><img alt=\"Friday: Mostly sunny, with a high near 95. South wind 5 to 10 mph, with gusts as high as 20 mph. \" class=\"forecast-icon\" src=\"newimages/medium/sct.png\" title=\"Friday: Mostly sunny, with a high near 95. South wind 5 to 10 mph, with gusts as high as 20 mph. \"/></p><p class=\"short-desc\">Mostly Sunny</p><p class=\"temp temp-high\">High: 95 °F</p></div>,\n",
       " <div class=\"tombstone-container\">\n",
       " <p class=\"period-name\">Friday<br/>Night</p>\n",
       " <p><img alt=\"Friday Night: Partly cloudy, with a low around 76. South southeast wind 5 to 10 mph, with gusts as high as 20 mph. \" class=\"forecast-icon\" src=\"newimages/medium/nsct.png\" title=\"Friday Night: Partly cloudy, with a low around 76. South southeast wind 5 to 10 mph, with gusts as high as 20 mph. \"/></p><p class=\"short-desc\">Partly Cloudy</p><p class=\"temp temp-low\">Low: 76 °F</p></div>,\n",
       " <div class=\"tombstone-container\">\n",
       " <p class=\"period-name\">Saturday<br/><br/></p>\n",
       " <p><img alt=\"Saturday: Mostly sunny, with a high near 94. South wind 5 to 10 mph, with gusts as high as 20 mph. \" class=\"forecast-icon\" src=\"newimages/medium/sct.png\" title=\"Saturday: Mostly sunny, with a high near 94. South wind 5 to 10 mph, with gusts as high as 20 mph. \"/></p><p class=\"short-desc\">Mostly Sunny</p><p class=\"temp temp-high\">High: 94 °F</p></div>,\n",
       " <div class=\"tombstone-container\">\n",
       " <p class=\"period-name\">Saturday<br/>Night</p>\n",
       " <p><img alt=\"Saturday Night: Partly cloudy, with a low around 76. South wind 5 to 10 mph, with gusts as high as 20 mph. \" class=\"forecast-icon\" src=\"newimages/medium/nsct.png\" title=\"Saturday Night: Partly cloudy, with a low around 76. South wind 5 to 10 mph, with gusts as high as 20 mph. \"/></p><p class=\"short-desc\">Partly Cloudy</p><p class=\"temp temp-low\">Low: 76 °F</p></div>,\n",
       " <div class=\"tombstone-container\">\n",
       " <p class=\"period-name\">Sunday<br/><br/></p>\n",
       " <p><img alt=\"Sunday: A 20 percent chance of showers and thunderstorms.  Mostly sunny, with a high near 94. South wind 5 to 10 mph. \" class=\"forecast-icon\" src=\"newimages/medium/hi_tsra20.png\" title=\"Sunday: A 20 percent chance of showers and thunderstorms.  Mostly sunny, with a high near 94. South wind 5 to 10 mph. \"/></p><p class=\"short-desc\">Slight Chance<br/>T-storms</p><p class=\"temp temp-high\">High: 94 °F</p></div>]"
      ]
     },
     "execution_count": 75,
     "metadata": {},
     "output_type": "execute_result"
    }
   ],
   "source": [
    "day"
   ]
  },
  {
   "cell_type": "code",
   "execution_count": 77,
   "metadata": {
    "scrolled": true
   },
   "outputs": [
    {
     "name": "stdout",
     "output_type": "stream",
     "text": [
      "['Today', 'Tonight', 'Thursday', 'ThursdayNight', 'Friday', 'FridayNight', 'Saturday', 'SaturdayNight', 'Sunday']\n",
      "['Sunny', 'Mostly Clear', 'Sunny', 'Mostly Clear', 'Mostly Sunny', 'Partly Cloudy', 'Mostly Sunny', 'Partly Cloudy', 'Slight ChanceT-storms']\n",
      "['High: 95 °F', 'Low: 74 °F', 'High: 96 °F', 'Low: 75 °F', 'High: 95 °F', 'Low: 76 °F', 'High: 94 °F', 'Low: 76 °F', 'High: 94 °F']\n"
     ]
    }
   ],
   "source": [
    "print(S)\n",
    "print(M)\n",
    "print(A)"
   ]
  },
  {
   "cell_type": "code",
   "execution_count": 78,
   "metadata": {},
   "outputs": [],
   "source": [
    "weather = pd.DataFrame(\n",
    "    {\n",
    "        'Name' : S,\n",
    "        'Temp' : A,\n",
    "        'desc' : M\n",
    "    })"
   ]
  },
  {
   "cell_type": "code",
   "execution_count": 79,
   "metadata": {
    "scrolled": true
   },
   "outputs": [
    {
     "name": "stdout",
     "output_type": "stream",
     "text": [
      "            Name         Temp                   desc\n",
      "0          Today  High: 95 °F                  Sunny\n",
      "1        Tonight   Low: 74 °F           Mostly Clear\n",
      "2       Thursday  High: 96 °F                  Sunny\n",
      "3  ThursdayNight   Low: 75 °F           Mostly Clear\n",
      "4         Friday  High: 95 °F           Mostly Sunny\n",
      "5    FridayNight   Low: 76 °F          Partly Cloudy\n",
      "6       Saturday  High: 94 °F           Mostly Sunny\n",
      "7  SaturdayNight   Low: 76 °F          Partly Cloudy\n",
      "8         Sunday  High: 94 °F  Slight ChanceT-storms\n"
     ]
    }
   ],
   "source": [
    "print(weather)"
   ]
  }
 ],
 "metadata": {
  "kernelspec": {
   "display_name": "Python 3",
   "language": "python",
   "name": "python3"
  },
  "language_info": {
   "codemirror_mode": {
    "name": "ipython",
    "version": 3
   },
   "file_extension": ".py",
   "mimetype": "text/x-python",
   "name": "python",
   "nbconvert_exporter": "python",
   "pygments_lexer": "ipython3",
   "version": "3.7.4"
  }
 },
 "nbformat": 4,
 "nbformat_minor": 2
}
